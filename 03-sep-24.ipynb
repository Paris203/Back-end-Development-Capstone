{
 "cells": [
  {
   "cell_type": "code",
   "execution_count": 1,
   "id": "a5c492c0",
   "metadata": {
    "execution": {
     "iopub.execute_input": "2024-09-09T05:52:12.751057Z",
     "iopub.status.busy": "2024-09-09T05:52:12.750645Z",
     "iopub.status.idle": "2024-09-09T05:52:14.972118Z",
     "shell.execute_reply": "2024-09-09T05:52:14.970902Z"
    },
    "papermill": {
     "duration": 2.229826,
     "end_time": "2024-09-09T05:52:14.974769",
     "exception": false,
     "start_time": "2024-09-09T05:52:12.744943",
     "status": "completed"
    },
    "tags": []
   },
   "outputs": [],
   "source": [
    "!git config --global user.name \"Paris203\"\n",
    "!git config --global user.email \"bolongott@gmail.com\""
   ]
  },
  {
   "cell_type": "code",
   "execution_count": 2,
   "id": "cd517ca2",
   "metadata": {
    "execution": {
     "iopub.execute_input": "2024-09-09T05:52:14.983832Z",
     "iopub.status.busy": "2024-09-09T05:52:14.983404Z",
     "iopub.status.idle": "2024-09-09T05:52:16.071927Z",
     "shell.execute_reply": "2024-09-09T05:52:16.070438Z"
    },
    "papermill": {
     "duration": 1.095971,
     "end_time": "2024-09-09T05:52:16.074510",
     "exception": false,
     "start_time": "2024-09-09T05:52:14.978539",
     "status": "completed"
    },
    "tags": []
   },
   "outputs": [
    {
     "name": "stdout",
     "output_type": "stream",
     "text": [
      "/kaggle/working\r\n"
     ]
    }
   ],
   "source": [
    "!pwd"
   ]
  },
  {
   "cell_type": "code",
   "execution_count": 3,
   "id": "401ef77f",
   "metadata": {
    "execution": {
     "iopub.execute_input": "2024-09-09T05:52:16.082688Z",
     "iopub.status.busy": "2024-09-09T05:52:16.082330Z",
     "iopub.status.idle": "2024-09-09T05:52:51.716409Z",
     "shell.execute_reply": "2024-09-09T05:52:51.715221Z"
    },
    "papermill": {
     "duration": 35.641089,
     "end_time": "2024-09-09T05:52:51.718963",
     "exception": false,
     "start_time": "2024-09-09T05:52:16.077874",
     "status": "completed"
    },
    "tags": []
   },
   "outputs": [
    {
     "name": "stdout",
     "output_type": "stream",
     "text": [
      "Cloning into 'Karlos'...\r\n",
      "remote: Enumerating objects: 12686, done.\u001b[K\r\n",
      "remote: Counting objects: 100% (651/651), done.\u001b[K\r\n",
      "remote: Compressing objects: 100% (381/381), done.\u001b[K\r\n",
      "remote: Total 12686 (delta 338), reused 526 (delta 270), pack-reused 12035 (from 1)\u001b[K\r\n",
      "Receiving objects: 100% (12686/12686), 1.15 GiB | 48.33 MiB/s, done.\r\n",
      "Resolving deltas: 100% (343/343), done.\r\n",
      "Updating files: 100% (11877/11877), done.\r\n"
     ]
    }
   ],
   "source": [
    "!git clone https://github.com/Paris203/Karlos.git"
   ]
  },
  {
   "cell_type": "code",
   "execution_count": 4,
   "id": "1634d83c",
   "metadata": {
    "execution": {
     "iopub.execute_input": "2024-09-09T05:52:51.762413Z",
     "iopub.status.busy": "2024-09-09T05:52:51.761984Z",
     "iopub.status.idle": "2024-09-09T05:52:51.769674Z",
     "shell.execute_reply": "2024-09-09T05:52:51.768760Z"
    },
    "papermill": {
     "duration": 0.032119,
     "end_time": "2024-09-09T05:52:51.771836",
     "exception": false,
     "start_time": "2024-09-09T05:52:51.739717",
     "status": "completed"
    },
    "tags": []
   },
   "outputs": [
    {
     "name": "stdout",
     "output_type": "stream",
     "text": [
      "/kaggle/working/Karlos\n"
     ]
    }
   ],
   "source": [
    "%cd /kaggle/working/Karlos"
   ]
  },
  {
   "cell_type": "code",
   "execution_count": 5,
   "id": "c6b4fde3",
   "metadata": {
    "execution": {
     "iopub.execute_input": "2024-09-09T05:52:51.812996Z",
     "iopub.status.busy": "2024-09-09T05:52:51.812630Z",
     "iopub.status.idle": "2024-09-09T05:52:52.905676Z",
     "shell.execute_reply": "2024-09-09T05:52:52.904130Z"
    },
    "papermill": {
     "duration": 1.118045,
     "end_time": "2024-09-09T05:52:52.909442",
     "exception": false,
     "start_time": "2024-09-09T05:52:51.791397",
     "status": "completed"
    },
    "tags": []
   },
   "outputs": [
    {
     "name": "stdout",
     "output_type": "stream",
     "text": [
      "total 36\r\n",
      "drwxr-xr-x 4 root root 4096 Sep  9 05:52 \u001b[0m\u001b[01;34mcheckpoint\u001b[0m/\r\n",
      "-rw-r--r-- 1 root root 2555 Sep  9 05:52 config.py\r\n",
      "drwxr-xr-x 5 root root 4096 Sep  9 05:52 \u001b[01;34mdatasets_m\u001b[0m/\r\n",
      "drwxr-xr-x 2 root root 4096 Sep  9 05:52 \u001b[01;34menvconfig\u001b[0m/\r\n",
      "drwxr-xr-x 3 root root 4096 Sep  9 05:52 \u001b[01;34mmodels\u001b[0m/\r\n",
      "drwxr-xr-x 2 root root 4096 Sep  9 05:52 \u001b[01;34mnetworks\u001b[0m/\r\n",
      "-rw-r--r-- 1 root root 1808 Sep  9 05:52 test.py\r\n",
      "-rw-r--r-- 1 root root 2270 Sep  9 05:52 train.py\r\n",
      "drwxr-xr-x 2 root root 4096 Sep  9 05:52 \u001b[01;34mutils\u001b[0m/\r\n"
     ]
    }
   ],
   "source": [
    "ls -l"
   ]
  },
  {
   "cell_type": "code",
   "execution_count": 6,
   "id": "ae4fcf40",
   "metadata": {
    "execution": {
     "iopub.execute_input": "2024-09-09T05:52:52.974682Z",
     "iopub.status.busy": "2024-09-09T05:52:52.973447Z",
     "iopub.status.idle": "2024-09-09T05:57:40.985391Z",
     "shell.execute_reply": "2024-09-09T05:57:40.984233Z"
    },
    "papermill": {
     "duration": 288.04798,
     "end_time": "2024-09-09T05:57:40.987943",
     "exception": false,
     "start_time": "2024-09-09T05:52:52.939963",
     "status": "completed"
    },
    "tags": []
   },
   "outputs": [
    {
     "name": "stdout",
     "output_type": "stream",
     "text": [
      "Resized activation map shape: torch.Size([6, 48, 48])\r\n",
      "Loading CUB trainset\r\n",
      "/opt/conda/lib/python3.10/site-packages/torch/utils/data/dataloader.py:557: UserWarning: This DataLoader will create 8 worker processes in total. Our suggested max number of worker in current system is 4, which is smaller than what this DataLoader is going to create. Please be aware that excessive worker creation might get DataLoader running slow or even freeze, lower the worker number to avoid potential slowness/freeze if necessary.\r\n",
      "  warnings.warn(_create_warning_msg(\r\n",
      "Loading CUB testset\r\n",
      "/kaggle/working/Karlos/networks/resnet.py:248: FutureWarning: You are using `torch.load` with `weights_only=False` (the current default value), which uses the default pickle module implicitly. It is possible to construct malicious pickle data which will execute arbitrary code during unpickling (See https://github.com/pytorch/pytorch/blob/main/SECURITY.md#untrusted-models for more details). In a future release, the default value for `weights_only` will be flipped to `True`. This limits the functions that could be executed during unpickling. Arbitrary objects will no longer be allowed to be loaded via this mode unless they are explicitly allowlisted by the user via `torch.serialization.add_safe_globals`. We recommend you start setting `weights_only=True` for any use case where you don't have full control of the loaded file. Please open an issue on GitHub for any issues related to this experimental feature.\r\n",
      "  state_dict = torch.load(pth_path)\r\n",
      "Training 1 epoch\r\n",
      "100%|█████████████████████████████████████████| 999/999 [04:28<00:00,  3.72it/s]\r\n",
      "Traceback (most recent call last):\r\n",
      "  File \"/kaggle/working/Karlos/train.py\", line 74, in <module>\r\n",
      "    main()\r\n",
      "  File \"/kaggle/working/Karlos/train.py\", line 61, in main\r\n",
      "    train(model=model,\r\n",
      "  File \"/kaggle/working/Karlos/utils/train_model.py\", line 98, in train\r\n",
      "    correct_predictions += (predicted == labels).sum().item()\r\n",
      "UnboundLocalError: local variable 'correct_predictions' referenced before assignment\r\n"
     ]
    }
   ],
   "source": [
    "!python train.py"
   ]
  },
  {
   "cell_type": "code",
   "execution_count": 7,
   "id": "65e7bfbe",
   "metadata": {
    "execution": {
     "iopub.execute_input": "2024-09-09T05:57:41.207556Z",
     "iopub.status.busy": "2024-09-09T05:57:41.207017Z",
     "iopub.status.idle": "2024-09-09T05:57:41.217365Z",
     "shell.execute_reply": "2024-09-09T05:57:41.216505Z"
    },
    "papermill": {
     "duration": 0.123809,
     "end_time": "2024-09-09T05:57:41.219664",
     "exception": false,
     "start_time": "2024-09-09T05:57:41.095855",
     "status": "completed"
    },
    "tags": []
   },
   "outputs": [],
   "source": [
    "# ma\n",
    "def compute_cam(feature_maps, classifier_weights):\n",
    "    \"\"\"\n",
    "    Compute the Class Activation Map (CAM).\n",
    "    \n",
    "    Args:\n",
    "        feature_maps (torch.Tensor): Feature maps from the last convolutional layer (shape: [batch_size, num_channels, height, width]).\n",
    "        classifier_weights (torch.Tensor): Weights of the classifier corresponding to the class (shape: [num_channels]).\n",
    "    \n",
    "    Returns:\n",
    "        torch.Tensor: The CAM for the given input (shape: [batch_size, height, width]).\n",
    "    \"\"\"\n",
    "    # Compute the weighted sum of the feature maps\n",
    "    weighted_sum = torch.einsum('ijkl,j->ikl', feature_maps, classifier_weights)\n",
    "    \n",
    "    # Apply the ReLU function to match the dimensions and normalize\n",
    "    cam = F.relu(weighted_sum)\n",
    "    \n",
    "    return cam\n",
    "\n",
    "\n",
    "def compute_spm(cam):\n",
    "    \"\"\"\n",
    "    Compute the Semantic Percent Map (SPM).\n",
    "    \n",
    "    Args:\n",
    "        cam (torch.Tensor): The Class Activation Map (CAM) (shape: [batch_size, height, width]).\n",
    "    \n",
    "    Returns:\n",
    "        torch.Tensor: The SPM for the given input (shape: [batch_size, height, width]).\n",
    "    \"\"\"\n",
    "    # Normalize CAM by its sum to compute SPM\n",
    "    spm = cam / cam.sum(dim=(1, 2), keepdim=True)\n",
    "    \n",
    "    return spm\n",
    "\n",
    "def compute_label_weights(spm, mask_a, mask_b):\n",
    "    \"\"\"\n",
    "    Compute the label weights ρa and ρb.\n",
    "    \n",
    "    Args:\n",
    "        spm (torch.Tensor): The SPM for the given input (shape: [batch_size, height, width]).\n",
    "        mask_a (torch.Tensor): Binary mask for region of interest φa (shape: [batch_size, height, width]).\n",
    "        mask_b (torch.Tensor): Binary mask for region of interest φb (shape: [batch_size, height, width]).\n",
    "    \n",
    "    Returns:\n",
    "        Tuple[torch.Tensor, torch.Tensor]: The label weights ρa and ρb.\n",
    "    \"\"\"\n",
    "    # Compute ρa\n",
    "    rho_a = 1 - torch.sum(mask_a * spm, dim=(1, 2))\n",
    "    \n",
    "    # Compute ρb\n",
    "    rho_b = torch.sum(mask_b * spm, dim=(1, 2))\n",
    "    \n",
    "    return rho_a, rho_b\n"
   ]
  },
  {
   "cell_type": "code",
   "execution_count": null,
   "id": "4292adc7",
   "metadata": {
    "papermill": {
     "duration": 0.110018,
     "end_time": "2024-09-09T05:57:41.439521",
     "exception": false,
     "start_time": "2024-09-09T05:57:41.329503",
     "status": "completed"
    },
    "tags": []
   },
   "outputs": [],
   "source": []
  }
 ],
 "metadata": {
  "kaggle": {
   "accelerator": "gpu",
   "dataSources": [],
   "dockerImageVersionId": 30762,
   "isGpuEnabled": true,
   "isInternetEnabled": true,
   "language": "python",
   "sourceType": "notebook"
  },
  "kernelspec": {
   "display_name": "Python 3",
   "language": "python",
   "name": "python3"
  },
  "language_info": {
   "codemirror_mode": {
    "name": "ipython",
    "version": 3
   },
   "file_extension": ".py",
   "mimetype": "text/x-python",
   "name": "python",
   "nbconvert_exporter": "python",
   "pygments_lexer": "ipython3",
   "version": "3.10.14"
  },
  "papermill": {
   "default_parameters": {},
   "duration": 332.186477,
   "end_time": "2024-09-09T05:57:41.970498",
   "environment_variables": {},
   "exception": null,
   "input_path": "__notebook__.ipynb",
   "output_path": "__notebook__.ipynb",
   "parameters": {},
   "start_time": "2024-09-09T05:52:09.784021",
   "version": "2.6.0"
  }
 },
 "nbformat": 4,
 "nbformat_minor": 5
}
