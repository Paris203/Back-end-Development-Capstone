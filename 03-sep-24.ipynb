{
 "cells": [
  {
   "cell_type": "code",
   "execution_count": 1,
   "id": "a151500b",
   "metadata": {
    "execution": {
     "iopub.execute_input": "2024-09-09T04:50:10.423670Z",
     "iopub.status.busy": "2024-09-09T04:50:10.423280Z",
     "iopub.status.idle": "2024-09-09T04:50:12.477786Z",
     "shell.execute_reply": "2024-09-09T04:50:12.476714Z"
    },
    "papermill": {
     "duration": 2.062219,
     "end_time": "2024-09-09T04:50:12.480273",
     "exception": false,
     "start_time": "2024-09-09T04:50:10.418054",
     "status": "completed"
    },
    "tags": []
   },
   "outputs": [],
   "source": [
    "!git config --global user.name \"Paris203\"\n",
    "!git config --global user.email \"bolongott@gmail.com\""
   ]
  },
  {
   "cell_type": "code",
   "execution_count": 2,
   "id": "351e5cfd",
   "metadata": {
    "execution": {
     "iopub.execute_input": "2024-09-09T04:50:12.488404Z",
     "iopub.status.busy": "2024-09-09T04:50:12.488044Z",
     "iopub.status.idle": "2024-09-09T04:50:13.497323Z",
     "shell.execute_reply": "2024-09-09T04:50:13.496325Z"
    },
    "papermill": {
     "duration": 1.015939,
     "end_time": "2024-09-09T04:50:13.499717",
     "exception": false,
     "start_time": "2024-09-09T04:50:12.483778",
     "status": "completed"
    },
    "tags": []
   },
   "outputs": [
    {
     "name": "stdout",
     "output_type": "stream",
     "text": [
      "/kaggle/working\r\n"
     ]
    }
   ],
   "source": [
    "!pwd"
   ]
  },
  {
   "cell_type": "code",
   "execution_count": 3,
   "id": "c67fe6b3",
   "metadata": {
    "execution": {
     "iopub.execute_input": "2024-09-09T04:50:13.507715Z",
     "iopub.status.busy": "2024-09-09T04:50:13.507360Z",
     "iopub.status.idle": "2024-09-09T04:50:46.420399Z",
     "shell.execute_reply": "2024-09-09T04:50:46.419434Z"
    },
    "papermill": {
     "duration": 32.919764,
     "end_time": "2024-09-09T04:50:46.422920",
     "exception": false,
     "start_time": "2024-09-09T04:50:13.503156",
     "status": "completed"
    },
    "tags": []
   },
   "outputs": [
    {
     "name": "stdout",
     "output_type": "stream",
     "text": [
      "Cloning into 'Karlos'...\r\n",
      "remote: Enumerating objects: 12678, done.\u001b[K\r\n",
      "remote: Counting objects: 100% (643/643), done.\u001b[K\r\n",
      "remote: Compressing objects: 100% (373/373), done.\u001b[K\r\n",
      "remote: Total 12678 (delta 332), reused 526 (delta 270), pack-reused 12035 (from 1)\u001b[K\r\n",
      "Receiving objects: 100% (12678/12678), 1.15 GiB | 51.39 MiB/s, done.\r\n",
      "Resolving deltas: 100% (337/337), done.\r\n",
      "Updating files: 100% (11877/11877), done.\r\n"
     ]
    }
   ],
   "source": [
    "!git clone https://github.com/Paris203/Karlos.git"
   ]
  },
  {
   "cell_type": "code",
   "execution_count": 4,
   "id": "af911e91",
   "metadata": {
    "execution": {
     "iopub.execute_input": "2024-09-09T04:50:46.461910Z",
     "iopub.status.busy": "2024-09-09T04:50:46.461396Z",
     "iopub.status.idle": "2024-09-09T04:50:46.470179Z",
     "shell.execute_reply": "2024-09-09T04:50:46.468912Z"
    },
    "papermill": {
     "duration": 0.031241,
     "end_time": "2024-09-09T04:50:46.472336",
     "exception": false,
     "start_time": "2024-09-09T04:50:46.441095",
     "status": "completed"
    },
    "tags": []
   },
   "outputs": [
    {
     "name": "stdout",
     "output_type": "stream",
     "text": [
      "/kaggle/working/Karlos\n"
     ]
    }
   ],
   "source": [
    "%cd /kaggle/working/Karlos"
   ]
  },
  {
   "cell_type": "code",
   "execution_count": 5,
   "id": "50154cb9",
   "metadata": {
    "execution": {
     "iopub.execute_input": "2024-09-09T04:50:46.511570Z",
     "iopub.status.busy": "2024-09-09T04:50:46.510761Z",
     "iopub.status.idle": "2024-09-09T04:50:47.556792Z",
     "shell.execute_reply": "2024-09-09T04:50:47.555624Z"
    },
    "papermill": {
     "duration": 1.068694,
     "end_time": "2024-09-09T04:50:47.559404",
     "exception": false,
     "start_time": "2024-09-09T04:50:46.490710",
     "status": "completed"
    },
    "tags": []
   },
   "outputs": [
    {
     "name": "stdout",
     "output_type": "stream",
     "text": [
      "total 36\r\n",
      "drwxr-xr-x 4 root root 4096 Sep  9 04:50 \u001b[0m\u001b[01;34mcheckpoint\u001b[0m/\r\n",
      "-rw-r--r-- 1 root root 2555 Sep  9 04:50 config.py\r\n",
      "drwxr-xr-x 5 root root 4096 Sep  9 04:50 \u001b[01;34mdatasets_m\u001b[0m/\r\n",
      "drwxr-xr-x 2 root root 4096 Sep  9 04:50 \u001b[01;34menvconfig\u001b[0m/\r\n",
      "drwxr-xr-x 3 root root 4096 Sep  9 04:50 \u001b[01;34mmodels\u001b[0m/\r\n",
      "drwxr-xr-x 2 root root 4096 Sep  9 04:50 \u001b[01;34mnetworks\u001b[0m/\r\n",
      "-rw-r--r-- 1 root root 1808 Sep  9 04:50 test.py\r\n",
      "-rw-r--r-- 1 root root 2270 Sep  9 04:50 train.py\r\n",
      "drwxr-xr-x 2 root root 4096 Sep  9 04:50 \u001b[01;34mutils\u001b[0m/\r\n"
     ]
    }
   ],
   "source": [
    "ls -l"
   ]
  },
  {
   "cell_type": "code",
   "execution_count": 6,
   "id": "205060f3",
   "metadata": {
    "execution": {
     "iopub.execute_input": "2024-09-09T04:50:47.597633Z",
     "iopub.status.busy": "2024-09-09T04:50:47.596758Z",
     "iopub.status.idle": "2024-09-09T04:57:15.924228Z",
     "shell.execute_reply": "2024-09-09T04:57:15.923140Z"
    },
    "papermill": {
     "duration": 388.348964,
     "end_time": "2024-09-09T04:57:15.926676",
     "exception": false,
     "start_time": "2024-09-09T04:50:47.577712",
     "status": "completed"
    },
    "tags": []
   },
   "outputs": [
    {
     "name": "stdout",
     "output_type": "stream",
     "text": [
      "Resized activation map shape: torch.Size([6, 48, 48])\r\n",
      "Loading CUB trainset\r\n",
      "/opt/conda/lib/python3.10/site-packages/torch/utils/data/dataloader.py:557: UserWarning: This DataLoader will create 8 worker processes in total. Our suggested max number of worker in current system is 4, which is smaller than what this DataLoader is going to create. Please be aware that excessive worker creation might get DataLoader running slow or even freeze, lower the worker number to avoid potential slowness/freeze if necessary.\r\n",
      "  warnings.warn(_create_warning_msg(\r\n",
      "Loading CUB testset\r\n",
      "/kaggle/working/Karlos/networks/resnet.py:248: FutureWarning: You are using `torch.load` with `weights_only=False` (the current default value), which uses the default pickle module implicitly. It is possible to construct malicious pickle data which will execute arbitrary code during unpickling (See https://github.com/pytorch/pytorch/blob/main/SECURITY.md#untrusted-models for more details). In a future release, the default value for `weights_only` will be flipped to `True`. This limits the functions that could be executed during unpickling. Arbitrary objects will no longer be allowed to be loaded via this mode unless they are explicitly allowlisted by the user via `torch.serialization.add_safe_globals`. We recommend you start setting `weights_only=True` for any use case where you don't have full control of the loaded file. Please open an issue on GitHub for any issues related to this experimental feature.\r\n",
      "  state_dict = torch.load(pth_path)\r\n",
      "Training 1 epoch\r\n",
      "100%|█████████████████████████████████████████| 999/999 [04:25<00:00,  3.76it/s]\r\n",
      "Evaluating\r\n",
      "  0%|                                                   | 0/966 [00:00<?, ?it/s]/opt/conda/lib/python3.10/site-packages/torch/utils/data/dataloader.py:557: UserWarning: This DataLoader will create 8 worker processes in total. Our suggested max number of worker in current system is 4, which is smaller than what this DataLoader is going to create. Please be aware that excessive worker creation might get DataLoader running slow or even freeze, lower the worker number to avoid potential slowness/freeze if necessary.\r\n",
      "  warnings.warn(_create_warning_msg(\r\n",
      "100%|█████████████████████████████████████████| 966/966 [01:43<00:00,  9.30it/s]\r\n",
      "Test set: raw accuracy: 22.76%, local accuracy: 20.76%\r\n",
      "Saving checkpoint\r\n",
      "Traceback (most recent call last):\r\n",
      "  File \"/kaggle/working/Karlos/train.py\", line 74, in <module>\r\n",
      "    main()\r\n",
      "  File \"/kaggle/working/Karlos/train.py\", line 61, in main\r\n",
      "    train(model=model,\r\n",
      "  File \"/kaggle/working/Karlos/utils/train_model.py\", line 144, in train\r\n",
      "    'train_accuracy': train_metrics['raw_accuracy'][-1],\r\n",
      "IndexError: list index out of range\r\n"
     ]
    }
   ],
   "source": [
    "!python train.py"
   ]
  },
  {
   "cell_type": "code",
   "execution_count": 7,
   "id": "ef0fa4ce",
   "metadata": {
    "execution": {
     "iopub.execute_input": "2024-09-09T04:57:16.316084Z",
     "iopub.status.busy": "2024-09-09T04:57:16.315613Z",
     "iopub.status.idle": "2024-09-09T04:57:16.325777Z",
     "shell.execute_reply": "2024-09-09T04:57:16.324783Z"
    },
    "papermill": {
     "duration": 0.181289,
     "end_time": "2024-09-09T04:57:16.327788",
     "exception": false,
     "start_time": "2024-09-09T04:57:16.146499",
     "status": "completed"
    },
    "tags": []
   },
   "outputs": [],
   "source": [
    "# ma\n",
    "def compute_cam(feature_maps, classifier_weights):\n",
    "    \"\"\"\n",
    "    Compute the Class Activation Map (CAM).\n",
    "    \n",
    "    Args:\n",
    "        feature_maps (torch.Tensor): Feature maps from the last convolutional layer (shape: [batch_size, num_channels, height, width]).\n",
    "        classifier_weights (torch.Tensor): Weights of the classifier corresponding to the class (shape: [num_channels]).\n",
    "    \n",
    "    Returns:\n",
    "        torch.Tensor: The CAM for the given input (shape: [batch_size, height, width]).\n",
    "    \"\"\"\n",
    "    # Compute the weighted sum of the feature maps\n",
    "    weighted_sum = torch.einsum('ijkl,j->ikl', feature_maps, classifier_weights)\n",
    "    \n",
    "    # Apply the ReLU function to match the dimensions and normalize\n",
    "    cam = F.relu(weighted_sum)\n",
    "    \n",
    "    return cam\n",
    "\n",
    "\n",
    "def compute_spm(cam):\n",
    "    \"\"\"\n",
    "    Compute the Semantic Percent Map (SPM).\n",
    "    \n",
    "    Args:\n",
    "        cam (torch.Tensor): The Class Activation Map (CAM) (shape: [batch_size, height, width]).\n",
    "    \n",
    "    Returns:\n",
    "        torch.Tensor: The SPM for the given input (shape: [batch_size, height, width]).\n",
    "    \"\"\"\n",
    "    # Normalize CAM by its sum to compute SPM\n",
    "    spm = cam / cam.sum(dim=(1, 2), keepdim=True)\n",
    "    \n",
    "    return spm\n",
    "\n",
    "def compute_label_weights(spm, mask_a, mask_b):\n",
    "    \"\"\"\n",
    "    Compute the label weights ρa and ρb.\n",
    "    \n",
    "    Args:\n",
    "        spm (torch.Tensor): The SPM for the given input (shape: [batch_size, height, width]).\n",
    "        mask_a (torch.Tensor): Binary mask for region of interest φa (shape: [batch_size, height, width]).\n",
    "        mask_b (torch.Tensor): Binary mask for region of interest φb (shape: [batch_size, height, width]).\n",
    "    \n",
    "    Returns:\n",
    "        Tuple[torch.Tensor, torch.Tensor]: The label weights ρa and ρb.\n",
    "    \"\"\"\n",
    "    # Compute ρa\n",
    "    rho_a = 1 - torch.sum(mask_a * spm, dim=(1, 2))\n",
    "    \n",
    "    # Compute ρb\n",
    "    rho_b = torch.sum(mask_b * spm, dim=(1, 2))\n",
    "    \n",
    "    return rho_a, rho_b\n"
   ]
  },
  {
   "cell_type": "code",
   "execution_count": null,
   "id": "bd3992a3",
   "metadata": {
    "papermill": {
     "duration": 0.166261,
     "end_time": "2024-09-09T04:57:16.666789",
     "exception": false,
     "start_time": "2024-09-09T04:57:16.500528",
     "status": "completed"
    },
    "tags": []
   },
   "outputs": [],
   "source": []
  }
 ],
 "metadata": {
  "kaggle": {
   "accelerator": "gpu",
   "dataSources": [],
   "dockerImageVersionId": 30762,
   "isGpuEnabled": true,
   "isInternetEnabled": true,
   "language": "python",
   "sourceType": "notebook"
  },
  "kernelspec": {
   "display_name": "Python 3",
   "language": "python",
   "name": "python3"
  },
  "language_info": {
   "codemirror_mode": {
    "name": "ipython",
    "version": 3
   },
   "file_extension": ".py",
   "mimetype": "text/x-python",
   "name": "python",
   "nbconvert_exporter": "python",
   "pygments_lexer": "ipython3",
   "version": "3.10.14"
  },
  "papermill": {
   "default_parameters": {},
   "duration": 429.59032,
   "end_time": "2024-09-09T04:57:17.159354",
   "environment_variables": {},
   "exception": null,
   "input_path": "__notebook__.ipynb",
   "output_path": "__notebook__.ipynb",
   "parameters": {},
   "start_time": "2024-09-09T04:50:07.569034",
   "version": "2.6.0"
  }
 },
 "nbformat": 4,
 "nbformat_minor": 5
}
